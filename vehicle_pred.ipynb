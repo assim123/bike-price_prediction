{
 "cells": [
  {
   "cell_type": "code",
   "execution_count": 1,
   "metadata": {},
   "outputs": [],
   "source": [
    "import pandas as pd\n",
    "import numpy as np\n",
    "import matplotlib.pyplot as plt\n",
    "import seaborn as sns"
   ]
  },
  {
   "cell_type": "code",
   "execution_count": 2,
   "metadata": {},
   "outputs": [],
   "source": [
    "Used_bike = pd.read_csv('BIKE DETAILS.csv')"
   ]
  },
  {
   "cell_type": "code",
   "execution_count": 3,
   "metadata": {},
   "outputs": [
    {
     "data": {
      "text/html": [
       "<div>\n",
       "<style scoped>\n",
       "    .dataframe tbody tr th:only-of-type {\n",
       "        vertical-align: middle;\n",
       "    }\n",
       "\n",
       "    .dataframe tbody tr th {\n",
       "        vertical-align: top;\n",
       "    }\n",
       "\n",
       "    .dataframe thead th {\n",
       "        text-align: right;\n",
       "    }\n",
       "</style>\n",
       "<table border=\"1\" class=\"dataframe\">\n",
       "  <thead>\n",
       "    <tr style=\"text-align: right;\">\n",
       "      <th></th>\n",
       "      <th>name</th>\n",
       "      <th>selling_price</th>\n",
       "      <th>year</th>\n",
       "      <th>seller_type</th>\n",
       "      <th>owner</th>\n",
       "      <th>km_driven</th>\n",
       "      <th>ex_showroom_price</th>\n",
       "    </tr>\n",
       "  </thead>\n",
       "  <tbody>\n",
       "    <tr>\n",
       "      <th>0</th>\n",
       "      <td>Royal Enfield Classic 350</td>\n",
       "      <td>175000</td>\n",
       "      <td>2019</td>\n",
       "      <td>Individual</td>\n",
       "      <td>1st owner</td>\n",
       "      <td>350</td>\n",
       "      <td>NaN</td>\n",
       "    </tr>\n",
       "    <tr>\n",
       "      <th>1</th>\n",
       "      <td>Honda Dio</td>\n",
       "      <td>45000</td>\n",
       "      <td>2017</td>\n",
       "      <td>Individual</td>\n",
       "      <td>1st owner</td>\n",
       "      <td>5650</td>\n",
       "      <td>NaN</td>\n",
       "    </tr>\n",
       "    <tr>\n",
       "      <th>2</th>\n",
       "      <td>Royal Enfield Classic Gunmetal Grey</td>\n",
       "      <td>150000</td>\n",
       "      <td>2018</td>\n",
       "      <td>Individual</td>\n",
       "      <td>1st owner</td>\n",
       "      <td>12000</td>\n",
       "      <td>148114.0</td>\n",
       "    </tr>\n",
       "    <tr>\n",
       "      <th>3</th>\n",
       "      <td>Yamaha Fazer FI V 2.0 [2016-2018]</td>\n",
       "      <td>65000</td>\n",
       "      <td>2015</td>\n",
       "      <td>Individual</td>\n",
       "      <td>1st owner</td>\n",
       "      <td>23000</td>\n",
       "      <td>89643.0</td>\n",
       "    </tr>\n",
       "    <tr>\n",
       "      <th>4</th>\n",
       "      <td>Yamaha SZ [2013-2014]</td>\n",
       "      <td>20000</td>\n",
       "      <td>2011</td>\n",
       "      <td>Individual</td>\n",
       "      <td>2nd owner</td>\n",
       "      <td>21000</td>\n",
       "      <td>NaN</td>\n",
       "    </tr>\n",
       "    <tr>\n",
       "      <th>...</th>\n",
       "      <td>...</td>\n",
       "      <td>...</td>\n",
       "      <td>...</td>\n",
       "      <td>...</td>\n",
       "      <td>...</td>\n",
       "      <td>...</td>\n",
       "      <td>...</td>\n",
       "    </tr>\n",
       "    <tr>\n",
       "      <th>1056</th>\n",
       "      <td>Activa 3g</td>\n",
       "      <td>17000</td>\n",
       "      <td>2010</td>\n",
       "      <td>Individual</td>\n",
       "      <td>1st owner</td>\n",
       "      <td>500000</td>\n",
       "      <td>52000.0</td>\n",
       "    </tr>\n",
       "    <tr>\n",
       "      <th>1057</th>\n",
       "      <td>Honda CB twister</td>\n",
       "      <td>16000</td>\n",
       "      <td>2012</td>\n",
       "      <td>Individual</td>\n",
       "      <td>1st owner</td>\n",
       "      <td>33000</td>\n",
       "      <td>51000.0</td>\n",
       "    </tr>\n",
       "    <tr>\n",
       "      <th>1058</th>\n",
       "      <td>Bajaj Discover 125</td>\n",
       "      <td>15000</td>\n",
       "      <td>2013</td>\n",
       "      <td>Individual</td>\n",
       "      <td>2nd owner</td>\n",
       "      <td>35000</td>\n",
       "      <td>57000.0</td>\n",
       "    </tr>\n",
       "    <tr>\n",
       "      <th>1059</th>\n",
       "      <td>Honda CB Shine</td>\n",
       "      <td>12000</td>\n",
       "      <td>2009</td>\n",
       "      <td>Individual</td>\n",
       "      <td>1st owner</td>\n",
       "      <td>53000</td>\n",
       "      <td>58000.0</td>\n",
       "    </tr>\n",
       "    <tr>\n",
       "      <th>1060</th>\n",
       "      <td>Bajaj Pulsar 150</td>\n",
       "      <td>10000</td>\n",
       "      <td>2008</td>\n",
       "      <td>Individual</td>\n",
       "      <td>1st owner</td>\n",
       "      <td>92233</td>\n",
       "      <td>75000.0</td>\n",
       "    </tr>\n",
       "  </tbody>\n",
       "</table>\n",
       "<p>1061 rows × 7 columns</p>\n",
       "</div>"
      ],
      "text/plain": [
       "                                     name  selling_price  year seller_type  \\\n",
       "0               Royal Enfield Classic 350         175000  2019  Individual   \n",
       "1                               Honda Dio          45000  2017  Individual   \n",
       "2     Royal Enfield Classic Gunmetal Grey         150000  2018  Individual   \n",
       "3       Yamaha Fazer FI V 2.0 [2016-2018]          65000  2015  Individual   \n",
       "4                   Yamaha SZ [2013-2014]          20000  2011  Individual   \n",
       "...                                   ...            ...   ...         ...   \n",
       "1056                            Activa 3g          17000  2010  Individual   \n",
       "1057                     Honda CB twister          16000  2012  Individual   \n",
       "1058                   Bajaj Discover 125          15000  2013  Individual   \n",
       "1059                       Honda CB Shine          12000  2009  Individual   \n",
       "1060                     Bajaj Pulsar 150          10000  2008  Individual   \n",
       "\n",
       "          owner  km_driven  ex_showroom_price  \n",
       "0     1st owner        350                NaN  \n",
       "1     1st owner       5650                NaN  \n",
       "2     1st owner      12000           148114.0  \n",
       "3     1st owner      23000            89643.0  \n",
       "4     2nd owner      21000                NaN  \n",
       "...         ...        ...                ...  \n",
       "1056  1st owner     500000            52000.0  \n",
       "1057  1st owner      33000            51000.0  \n",
       "1058  2nd owner      35000            57000.0  \n",
       "1059  1st owner      53000            58000.0  \n",
       "1060  1st owner      92233            75000.0  \n",
       "\n",
       "[1061 rows x 7 columns]"
      ]
     },
     "execution_count": 3,
     "metadata": {},
     "output_type": "execute_result"
    }
   ],
   "source": [
    "Used_bike"
   ]
  },
  {
   "cell_type": "code",
   "execution_count": 4,
   "metadata": {},
   "outputs": [
    {
     "data": {
      "text/plain": [
       "name                   0\n",
       "selling_price          0\n",
       "year                   0\n",
       "seller_type            0\n",
       "owner                  0\n",
       "km_driven              0\n",
       "ex_showroom_price    435\n",
       "dtype: int64"
      ]
     },
     "execution_count": 4,
     "metadata": {},
     "output_type": "execute_result"
    }
   ],
   "source": [
    "Used_bike.isna().sum()"
   ]
  },
  {
   "cell_type": "code",
   "execution_count": 5,
   "metadata": {},
   "outputs": [],
   "source": [
    "Used_bike2 = Used_bike.drop('ex_showroom_price', axis=1)"
   ]
  },
  {
   "cell_type": "code",
   "execution_count": 6,
   "metadata": {},
   "outputs": [
    {
     "data": {
      "text/plain": [
       "name             0\n",
       "selling_price    0\n",
       "year             0\n",
       "seller_type      0\n",
       "owner            0\n",
       "km_driven        0\n",
       "dtype: int64"
      ]
     },
     "execution_count": 6,
     "metadata": {},
     "output_type": "execute_result"
    }
   ],
   "source": [
    "Used_bike2.isna().sum()"
   ]
  },
  {
   "cell_type": "code",
   "execution_count": 7,
   "metadata": {},
   "outputs": [
    {
     "data": {
      "text/plain": [
       "Bajaj Pulsar 150             41\n",
       "Royal Enfield Classic 350    27\n",
       "Honda Activa [2000-2015]     23\n",
       "Honda CB Hornet 160R         22\n",
       "Bajaj Pulsar 180             20\n",
       "                             ..\n",
       "Bajaj Discover 110            1\n",
       "Hero Honda Passion Pro        1\n",
       "Yamaha RXG                    1\n",
       "Bajaj Kristal                 1\n",
       "Suzuki Gixxer SF Fi           1\n",
       "Name: name, Length: 279, dtype: int64"
      ]
     },
     "execution_count": 7,
     "metadata": {},
     "output_type": "execute_result"
    }
   ],
   "source": [
    "Used_bike.name.value_counts()"
   ]
  },
  {
   "cell_type": "code",
   "execution_count": 8,
   "metadata": {},
   "outputs": [
    {
     "data": {
      "text/plain": [
       "name                 279\n",
       "selling_price        130\n",
       "year                  28\n",
       "seller_type            2\n",
       "owner                  4\n",
       "km_driven            304\n",
       "ex_showroom_price    230\n",
       "dtype: int64"
      ]
     },
     "execution_count": 8,
     "metadata": {},
     "output_type": "execute_result"
    }
   ],
   "source": [
    "Used_bike.nunique()"
   ]
  },
  {
   "cell_type": "code",
   "execution_count": 9,
   "metadata": {},
   "outputs": [
    {
     "data": {
      "text/plain": [
       "<AxesSubplot:xlabel='selling_price', ylabel='Count'>"
      ]
     },
     "execution_count": 9,
     "metadata": {},
     "output_type": "execute_result"
    },
    {
     "data": {
      "image/png": "[encoded data removed]",
      "text/plain": [
       "<Figure size 432x288 with 1 Axes>"
      ]
     },
     "metadata": {
      "needs_background": "light"
     },
     "output_type": "display_data"
    }
   ],
   "source": [
    "sns.histplot(Used_bike2['selling_price'], kde = True)"
   ]
  },
  {
   "cell_type": "code",
   "execution_count": 10,
   "metadata": {},
   "outputs": [
    {
     "data": {
      "image/png": "[encoded data removed]",
      "text/plain": [
       "<Figure size 720x504 with 1 Axes>"
      ]
     },
     "metadata": {
      "needs_background": "light"
     },
     "output_type": "display_data"
    }
   ],
   "source": [
    "fig = plt.figure(figsize =(10, 7))\n",
    " \n",
    "# Creating plot\n",
    "plt.boxplot(Used_bike2['selling_price'])\n",
    " \n",
    "# show plot\n",
    "plt.show()"
   ]
  },
  {
   "cell_type": "code",
   "execution_count": 11,
   "metadata": {},
   "outputs": [
    {
     "data": {
      "text/html": [
       "<div>\n",
       "<style scoped>\n",
       "    .dataframe tbody tr th:only-of-type {\n",
       "        vertical-align: middle;\n",
       "    }\n",
       "\n",
       "    .dataframe tbody tr th {\n",
       "        vertical-align: top;\n",
       "    }\n",
       "\n",
       "    .dataframe thead th {\n",
       "        text-align: right;\n",
       "    }\n",
       "</style>\n",
       "<table border=\"1\" class=\"dataframe\">\n",
       "  <thead>\n",
       "    <tr style=\"text-align: right;\">\n",
       "      <th></th>\n",
       "      <th>name</th>\n",
       "      <th>selling_price</th>\n",
       "      <th>year</th>\n",
       "      <th>seller_type</th>\n",
       "      <th>owner</th>\n",
       "      <th>km_driven</th>\n",
       "    </tr>\n",
       "  </thead>\n",
       "  <tbody>\n",
       "    <tr>\n",
       "      <th>count</th>\n",
       "      <td>1030</td>\n",
       "      <td>1030.000000</td>\n",
       "      <td>1030.000000</td>\n",
       "      <td>1030</td>\n",
       "      <td>1030</td>\n",
       "      <td>1030.000000</td>\n",
       "    </tr>\n",
       "    <tr>\n",
       "      <th>unique</th>\n",
       "      <td>265</td>\n",
       "      <td>NaN</td>\n",
       "      <td>NaN</td>\n",
       "      <td>2</td>\n",
       "      <td>4</td>\n",
       "      <td>NaN</td>\n",
       "    </tr>\n",
       "    <tr>\n",
       "      <th>top</th>\n",
       "      <td>Bajaj Pulsar 150</td>\n",
       "      <td>NaN</td>\n",
       "      <td>NaN</td>\n",
       "      <td>Individual</td>\n",
       "      <td>1st owner</td>\n",
       "      <td>NaN</td>\n",
       "    </tr>\n",
       "    <tr>\n",
       "      <th>freq</th>\n",
       "      <td>41</td>\n",
       "      <td>NaN</td>\n",
       "      <td>NaN</td>\n",
       "      <td>1024</td>\n",
       "      <td>900</td>\n",
       "      <td>NaN</td>\n",
       "    </tr>\n",
       "    <tr>\n",
       "      <th>mean</th>\n",
       "      <td>NaN</td>\n",
       "      <td>53346.678641</td>\n",
       "      <td>2013.761165</td>\n",
       "      <td>NaN</td>\n",
       "      <td>NaN</td>\n",
       "      <td>35181.764078</td>\n",
       "    </tr>\n",
       "    <tr>\n",
       "      <th>std</th>\n",
       "      <td>NaN</td>\n",
       "      <td>36037.408053</td>\n",
       "      <td>4.295821</td>\n",
       "      <td>NaN</td>\n",
       "      <td>NaN</td>\n",
       "      <td>52159.074675</td>\n",
       "    </tr>\n",
       "    <tr>\n",
       "      <th>min</th>\n",
       "      <td>NaN</td>\n",
       "      <td>5000.000000</td>\n",
       "      <td>1988.000000</td>\n",
       "      <td>NaN</td>\n",
       "      <td>NaN</td>\n",
       "      <td>350.000000</td>\n",
       "    </tr>\n",
       "    <tr>\n",
       "      <th>25%</th>\n",
       "      <td>NaN</td>\n",
       "      <td>27000.000000</td>\n",
       "      <td>2011.000000</td>\n",
       "      <td>NaN</td>\n",
       "      <td>NaN</td>\n",
       "      <td>14500.000000</td>\n",
       "    </tr>\n",
       "    <tr>\n",
       "      <th>50%</th>\n",
       "      <td>NaN</td>\n",
       "      <td>42000.000000</td>\n",
       "      <td>2015.000000</td>\n",
       "      <td>NaN</td>\n",
       "      <td>NaN</td>\n",
       "      <td>25000.000000</td>\n",
       "    </tr>\n",
       "    <tr>\n",
       "      <th>75%</th>\n",
       "      <td>NaN</td>\n",
       "      <td>68750.000000</td>\n",
       "      <td>2017.000000</td>\n",
       "      <td>NaN</td>\n",
       "      <td>NaN</td>\n",
       "      <td>44000.000000</td>\n",
       "    </tr>\n",
       "    <tr>\n",
       "      <th>max</th>\n",
       "      <td>NaN</td>\n",
       "      <td>175000.000000</td>\n",
       "      <td>2020.000000</td>\n",
       "      <td>NaN</td>\n",
       "      <td>NaN</td>\n",
       "      <td>880000.000000</td>\n",
       "    </tr>\n",
       "  </tbody>\n",
       "</table>\n",
       "</div>"
      ],
      "text/plain": [
       "                    name  selling_price         year seller_type      owner  \\\n",
       "count               1030    1030.000000  1030.000000        1030       1030   \n",
       "unique               265            NaN          NaN           2          4   \n",
       "top     Bajaj Pulsar 150            NaN          NaN  Individual  1st owner   \n",
       "freq                  41            NaN          NaN        1024        900   \n",
       "mean                 NaN   53346.678641  2013.761165         NaN        NaN   \n",
       "std                  NaN   36037.408053     4.295821         NaN        NaN   \n",
       "min                  NaN    5000.000000  1988.000000         NaN        NaN   \n",
       "25%                  NaN   27000.000000  2011.000000         NaN        NaN   \n",
       "50%                  NaN   42000.000000  2015.000000         NaN        NaN   \n",
       "75%                  NaN   68750.000000  2017.000000         NaN        NaN   \n",
       "max                  NaN  175000.000000  2020.000000         NaN        NaN   \n",
       "\n",
       "            km_driven  \n",
       "count     1030.000000  \n",
       "unique            NaN  \n",
       "top               NaN  \n",
       "freq              NaN  \n",
       "mean     35181.764078  \n",
       "std      52159.074675  \n",
       "min        350.000000  \n",
       "25%      14500.000000  \n",
       "50%      25000.000000  \n",
       "75%      44000.000000  \n",
       "max     880000.000000  "
      ]
     },
     "execution_count": 11,
     "metadata": {},
     "output_type": "execute_result"
    }
   ],
   "source": [
    "q = Used_bike2['selling_price'].quantile(0.975)\n",
    "Used_bike3 = Used_bike2[Used_bike2['selling_price'] < q]\n",
    "Used_bike3.describe(include = 'all')"
   ]
  },
  {
   "cell_type": "code",
   "execution_count": 12,
   "metadata": {},
   "outputs": [
    {
     "data": {
      "text/plain": [
       "<AxesSubplot:xlabel='selling_price', ylabel='Count'>"
      ]
     },
     "execution_count": 12,
     "metadata": {},
     "output_type": "execute_result"
    },
    {
     "data": {
      "image/png": "[encoded data removed]",
      "text/plain": [
       "<Figure size 432x288 with 1 Axes>"
      ]
     },
     "metadata": {
      "needs_background": "light"
     },
     "output_type": "display_data"
    }
   ],
   "source": [
    "sns.histplot(Used_bike3['selling_price'], kde = True)"
   ]
  },
  {
   "cell_type": "code",
   "execution_count": 13,
   "metadata": {},
   "outputs": [
    {
     "data": {
      "text/plain": [
       "<AxesSubplot:xlabel='km_driven', ylabel='Count'>"
      ]
     },
     "execution_count": 13,
     "metadata": {},
     "output_type": "execute_result"
    },
    {
     "data": {
      "image/png": "[encoded data removed]",
      "text/plain": [
       "<Figure size 432x288 with 1 Axes>"
      ]
     },
     "metadata": {
      "needs_background": "light"
     },
     "output_type": "display_data"
    }
   ],
   "source": [
    "sns.histplot(Used_bike3['km_driven'],kde = True)"
   ]
  },
  {
   "cell_type": "code",
   "execution_count": 14,
   "metadata": {},
   "outputs": [
    {
     "name": "stderr",
     "output_type": "stream",
     "text": [
      "<ipython-input-14-93dfff6be00d>:2: UserWarning: Boolean Series key will be reindexed to match DataFrame index.\n",
      "  Used_bike4 = Used_bike3[Used_bike2['km_driven'] < q]\n"
     ]
    },
    {
     "data": {
      "text/html": [
       "<div>\n",
       "<style scoped>\n",
       "    .dataframe tbody tr th:only-of-type {\n",
       "        vertical-align: middle;\n",
       "    }\n",
       "\n",
       "    .dataframe tbody tr th {\n",
       "        vertical-align: top;\n",
       "    }\n",
       "\n",
       "    .dataframe thead th {\n",
       "        text-align: right;\n",
       "    }\n",
       "</style>\n",
       "<table border=\"1\" class=\"dataframe\">\n",
       "  <thead>\n",
       "    <tr style=\"text-align: right;\">\n",
       "      <th></th>\n",
       "      <th>name</th>\n",
       "      <th>selling_price</th>\n",
       "      <th>year</th>\n",
       "      <th>seller_type</th>\n",
       "      <th>owner</th>\n",
       "      <th>km_driven</th>\n",
       "    </tr>\n",
       "  </thead>\n",
       "  <tbody>\n",
       "    <tr>\n",
       "      <th>count</th>\n",
       "      <td>1001</td>\n",
       "      <td>1001.000000</td>\n",
       "      <td>1001.000000</td>\n",
       "      <td>1001</td>\n",
       "      <td>1001</td>\n",
       "      <td>1001.000000</td>\n",
       "    </tr>\n",
       "    <tr>\n",
       "      <th>unique</th>\n",
       "      <td>263</td>\n",
       "      <td>NaN</td>\n",
       "      <td>NaN</td>\n",
       "      <td>2</td>\n",
       "      <td>4</td>\n",
       "      <td>NaN</td>\n",
       "    </tr>\n",
       "    <tr>\n",
       "      <th>top</th>\n",
       "      <td>Bajaj Pulsar 150</td>\n",
       "      <td>NaN</td>\n",
       "      <td>NaN</td>\n",
       "      <td>Individual</td>\n",
       "      <td>1st owner</td>\n",
       "      <td>NaN</td>\n",
       "    </tr>\n",
       "    <tr>\n",
       "      <th>freq</th>\n",
       "      <td>40</td>\n",
       "      <td>NaN</td>\n",
       "      <td>NaN</td>\n",
       "      <td>996</td>\n",
       "      <td>878</td>\n",
       "      <td>NaN</td>\n",
       "    </tr>\n",
       "    <tr>\n",
       "      <th>mean</th>\n",
       "      <td>NaN</td>\n",
       "      <td>53985.004995</td>\n",
       "      <td>2013.876124</td>\n",
       "      <td>NaN</td>\n",
       "      <td>NaN</td>\n",
       "      <td>29510.047952</td>\n",
       "    </tr>\n",
       "    <tr>\n",
       "      <th>std</th>\n",
       "      <td>NaN</td>\n",
       "      <td>36097.875896</td>\n",
       "      <td>4.241066</td>\n",
       "      <td>NaN</td>\n",
       "      <td>NaN</td>\n",
       "      <td>20391.286276</td>\n",
       "    </tr>\n",
       "    <tr>\n",
       "      <th>min</th>\n",
       "      <td>NaN</td>\n",
       "      <td>5000.000000</td>\n",
       "      <td>1988.000000</td>\n",
       "      <td>NaN</td>\n",
       "      <td>NaN</td>\n",
       "      <td>350.000000</td>\n",
       "    </tr>\n",
       "    <tr>\n",
       "      <th>25%</th>\n",
       "      <td>NaN</td>\n",
       "      <td>28000.000000</td>\n",
       "      <td>2012.000000</td>\n",
       "      <td>NaN</td>\n",
       "      <td>NaN</td>\n",
       "      <td>14000.000000</td>\n",
       "    </tr>\n",
       "    <tr>\n",
       "      <th>50%</th>\n",
       "      <td>NaN</td>\n",
       "      <td>43000.000000</td>\n",
       "      <td>2015.000000</td>\n",
       "      <td>NaN</td>\n",
       "      <td>NaN</td>\n",
       "      <td>25000.000000</td>\n",
       "    </tr>\n",
       "    <tr>\n",
       "      <th>75%</th>\n",
       "      <td>NaN</td>\n",
       "      <td>70000.000000</td>\n",
       "      <td>2017.000000</td>\n",
       "      <td>NaN</td>\n",
       "      <td>NaN</td>\n",
       "      <td>40000.000000</td>\n",
       "    </tr>\n",
       "    <tr>\n",
       "      <th>max</th>\n",
       "      <td>NaN</td>\n",
       "      <td>175000.000000</td>\n",
       "      <td>2020.000000</td>\n",
       "      <td>NaN</td>\n",
       "      <td>NaN</td>\n",
       "      <td>99000.000000</td>\n",
       "    </tr>\n",
       "  </tbody>\n",
       "</table>\n",
       "</div>"
      ],
      "text/plain": [
       "                    name  selling_price         year seller_type      owner  \\\n",
       "count               1001    1001.000000  1001.000000        1001       1001   \n",
       "unique               263            NaN          NaN           2          4   \n",
       "top     Bajaj Pulsar 150            NaN          NaN  Individual  1st owner   \n",
       "freq                  40            NaN          NaN         996        878   \n",
       "mean                 NaN   53985.004995  2013.876124         NaN        NaN   \n",
       "std                  NaN   36097.875896     4.241066         NaN        NaN   \n",
       "min                  NaN    5000.000000  1988.000000         NaN        NaN   \n",
       "25%                  NaN   28000.000000  2012.000000         NaN        NaN   \n",
       "50%                  NaN   43000.000000  2015.000000         NaN        NaN   \n",
       "75%                  NaN   70000.000000  2017.000000         NaN        NaN   \n",
       "max                  NaN  175000.000000  2020.000000         NaN        NaN   \n",
       "\n",
       "           km_driven  \n",
       "count    1001.000000  \n",
       "unique           NaN  \n",
       "top              NaN  \n",
       "freq             NaN  \n",
       "mean    29510.047952  \n",
       "std     20391.286276  \n",
       "min       350.000000  \n",
       "25%     14000.000000  \n",
       "50%     25000.000000  \n",
       "75%     40000.000000  \n",
       "max     99000.000000  "
      ]
     },
     "execution_count": 14,
     "metadata": {},
     "output_type": "execute_result"
    }
   ],
   "source": [
    "q = Used_bike3['km_driven'].quantile(0.975)\n",
    "Used_bike4 = Used_bike3[Used_bike2['km_driven'] < q]\n",
    "Used_bike4.describe(include = 'all')"
   ]
  },
  {
   "cell_type": "code",
   "execution_count": 15,
   "metadata": {},
   "outputs": [
    {
     "data": {
      "text/plain": [
       "<AxesSubplot:xlabel='km_driven', ylabel='Count'>"
      ]
     },
     "execution_count": 15,
     "metadata": {},
     "output_type": "execute_result"
    },
    {
     "data": {
      "image/png": "[encoded data removed]",
      "text/plain": [
       "<Figure size 432x288 with 1 Axes>"
      ]
     },
     "metadata": {
      "needs_background": "light"
     },
     "output_type": "display_data"
    }
   ],
   "source": [
    "sns.histplot(Used_bike4['km_driven'],kde = True)"
   ]
  },
  {
   "cell_type": "code",
   "execution_count": 16,
   "metadata": {},
   "outputs": [
    {
     "data": {
      "text/html": [
       "<div>\n",
       "<style scoped>\n",
       "    .dataframe tbody tr th:only-of-type {\n",
       "        vertical-align: middle;\n",
       "    }\n",
       "\n",
       "    .dataframe tbody tr th {\n",
       "        vertical-align: top;\n",
       "    }\n",
       "\n",
       "    .dataframe thead th {\n",
       "        text-align: right;\n",
       "    }\n",
       "</style>\n",
       "<table border=\"1\" class=\"dataframe\">\n",
       "  <thead>\n",
       "    <tr style=\"text-align: right;\">\n",
       "      <th></th>\n",
       "      <th>name</th>\n",
       "      <th>selling_price</th>\n",
       "      <th>year</th>\n",
       "      <th>seller_type</th>\n",
       "      <th>owner</th>\n",
       "      <th>km_driven</th>\n",
       "    </tr>\n",
       "  </thead>\n",
       "  <tbody>\n",
       "    <tr>\n",
       "      <th>0</th>\n",
       "      <td>Royal Enfield Classic 350</td>\n",
       "      <td>175000</td>\n",
       "      <td>2019</td>\n",
       "      <td>Individual</td>\n",
       "      <td>1st owner</td>\n",
       "      <td>350</td>\n",
       "    </tr>\n",
       "    <tr>\n",
       "      <th>1</th>\n",
       "      <td>Honda Dio</td>\n",
       "      <td>45000</td>\n",
       "      <td>2017</td>\n",
       "      <td>Individual</td>\n",
       "      <td>1st owner</td>\n",
       "      <td>5650</td>\n",
       "    </tr>\n",
       "    <tr>\n",
       "      <th>2</th>\n",
       "      <td>Royal Enfield Classic Gunmetal Grey</td>\n",
       "      <td>150000</td>\n",
       "      <td>2018</td>\n",
       "      <td>Individual</td>\n",
       "      <td>1st owner</td>\n",
       "      <td>12000</td>\n",
       "    </tr>\n",
       "    <tr>\n",
       "      <th>3</th>\n",
       "      <td>Yamaha Fazer FI V 2.0 [2016-2018]</td>\n",
       "      <td>65000</td>\n",
       "      <td>2015</td>\n",
       "      <td>Individual</td>\n",
       "      <td>1st owner</td>\n",
       "      <td>23000</td>\n",
       "    </tr>\n",
       "    <tr>\n",
       "      <th>4</th>\n",
       "      <td>Yamaha SZ [2013-2014]</td>\n",
       "      <td>20000</td>\n",
       "      <td>2011</td>\n",
       "      <td>Individual</td>\n",
       "      <td>2nd owner</td>\n",
       "      <td>21000</td>\n",
       "    </tr>\n",
       "  </tbody>\n",
       "</table>\n",
       "</div>"
      ],
      "text/plain": [
       "                                  name  selling_price  year seller_type  \\\n",
       "0            Royal Enfield Classic 350         175000  2019  Individual   \n",
       "1                            Honda Dio          45000  2017  Individual   \n",
       "2  Royal Enfield Classic Gunmetal Grey         150000  2018  Individual   \n",
       "3    Yamaha Fazer FI V 2.0 [2016-2018]          65000  2015  Individual   \n",
       "4                Yamaha SZ [2013-2014]          20000  2011  Individual   \n",
       "\n",
       "       owner  km_driven  \n",
       "0  1st owner        350  \n",
       "1  1st owner       5650  \n",
       "2  1st owner      12000  \n",
       "3  1st owner      23000  \n",
       "4  2nd owner      21000  "
      ]
     },
     "execution_count": 16,
     "metadata": {},
     "output_type": "execute_result"
    }
   ],
   "source": [
    "Used_bike3.head()"
   ]
  },
  {
   "cell_type": "code",
   "execution_count": 17,
   "metadata": {},
   "outputs": [
    {
     "data": {
      "text/plain": [
       "<seaborn.axisgrid.PairGrid at 0x1ee8b00adc0>"
      ]
     },
     "execution_count": 17,
     "metadata": {},
     "output_type": "execute_result"
    },
    {
     "data": {
      "image/png": "[encoded data removed]",
      "text/plain": [
       "<Figure size 540x540 with 12 Axes>"
      ]
     },
     "metadata": {
      "needs_background": "light"
     },
     "output_type": "display_data"
    }
   ],
   "source": [
    "sns.pairplot(Used_bike4)"
   ]
  },
  {
   "cell_type": "code",
   "execution_count": 18,
   "metadata": {},
   "outputs": [],
   "source": [
    "r = Used_bike4['year'].quantile(0.01)\n",
    "Used_bike5 = Used_bike4[Used_bike4['year'] > r]"
   ]
  },
  {
   "cell_type": "code",
   "execution_count": 19,
   "metadata": {},
   "outputs": [],
   "source": [
    "df_no_outlier = Used_bike5"
   ]
  },
  {
   "cell_type": "code",
   "execution_count": 20,
   "metadata": {},
   "outputs": [
    {
     "data": {
      "text/html": [
       "<div>\n",
       "<style scoped>\n",
       "    .dataframe tbody tr th:only-of-type {\n",
       "        vertical-align: middle;\n",
       "    }\n",
       "\n",
       "    .dataframe tbody tr th {\n",
       "        vertical-align: top;\n",
       "    }\n",
       "\n",
       "    .dataframe thead th {\n",
       "        text-align: right;\n",
       "    }\n",
       "</style>\n",
       "<table border=\"1\" class=\"dataframe\">\n",
       "  <thead>\n",
       "    <tr style=\"text-align: right;\">\n",
       "      <th></th>\n",
       "      <th>name</th>\n",
       "      <th>selling_price</th>\n",
       "      <th>year</th>\n",
       "      <th>seller_type</th>\n",
       "      <th>owner</th>\n",
       "      <th>km_driven</th>\n",
       "    </tr>\n",
       "  </thead>\n",
       "  <tbody>\n",
       "    <tr>\n",
       "      <th>count</th>\n",
       "      <td>986</td>\n",
       "      <td>986.000000</td>\n",
       "      <td>986.000000</td>\n",
       "      <td>986</td>\n",
       "      <td>986</td>\n",
       "      <td>986.000000</td>\n",
       "    </tr>\n",
       "    <tr>\n",
       "      <th>unique</th>\n",
       "      <td>255</td>\n",
       "      <td>NaN</td>\n",
       "      <td>NaN</td>\n",
       "      <td>2</td>\n",
       "      <td>3</td>\n",
       "      <td>NaN</td>\n",
       "    </tr>\n",
       "    <tr>\n",
       "      <th>top</th>\n",
       "      <td>Bajaj Pulsar 150</td>\n",
       "      <td>NaN</td>\n",
       "      <td>NaN</td>\n",
       "      <td>Individual</td>\n",
       "      <td>1st owner</td>\n",
       "      <td>NaN</td>\n",
       "    </tr>\n",
       "    <tr>\n",
       "      <th>freq</th>\n",
       "      <td>40</td>\n",
       "      <td>NaN</td>\n",
       "      <td>NaN</td>\n",
       "      <td>982</td>\n",
       "      <td>869</td>\n",
       "      <td>NaN</td>\n",
       "    </tr>\n",
       "    <tr>\n",
       "      <th>mean</th>\n",
       "      <td>NaN</td>\n",
       "      <td>54242.383367</td>\n",
       "      <td>2014.130832</td>\n",
       "      <td>NaN</td>\n",
       "      <td>NaN</td>\n",
       "      <td>29451.018256</td>\n",
       "    </tr>\n",
       "    <tr>\n",
       "      <th>std</th>\n",
       "      <td>NaN</td>\n",
       "      <td>35887.881558</td>\n",
       "      <td>3.704863</td>\n",
       "      <td>NaN</td>\n",
       "      <td>NaN</td>\n",
       "      <td>20398.384830</td>\n",
       "    </tr>\n",
       "    <tr>\n",
       "      <th>min</th>\n",
       "      <td>NaN</td>\n",
       "      <td>6000.000000</td>\n",
       "      <td>2001.000000</td>\n",
       "      <td>NaN</td>\n",
       "      <td>NaN</td>\n",
       "      <td>350.000000</td>\n",
       "    </tr>\n",
       "    <tr>\n",
       "      <th>25%</th>\n",
       "      <td>NaN</td>\n",
       "      <td>29925.000000</td>\n",
       "      <td>2012.000000</td>\n",
       "      <td>NaN</td>\n",
       "      <td>NaN</td>\n",
       "      <td>14000.000000</td>\n",
       "    </tr>\n",
       "    <tr>\n",
       "      <th>50%</th>\n",
       "      <td>NaN</td>\n",
       "      <td>45000.000000</td>\n",
       "      <td>2015.000000</td>\n",
       "      <td>NaN</td>\n",
       "      <td>NaN</td>\n",
       "      <td>25000.000000</td>\n",
       "    </tr>\n",
       "    <tr>\n",
       "      <th>75%</th>\n",
       "      <td>NaN</td>\n",
       "      <td>70000.000000</td>\n",
       "      <td>2017.000000</td>\n",
       "      <td>NaN</td>\n",
       "      <td>NaN</td>\n",
       "      <td>40000.000000</td>\n",
       "    </tr>\n",
       "    <tr>\n",
       "      <th>max</th>\n",
       "      <td>NaN</td>\n",
       "      <td>175000.000000</td>\n",
       "      <td>2020.000000</td>\n",
       "      <td>NaN</td>\n",
       "      <td>NaN</td>\n",
       "      <td>99000.000000</td>\n",
       "    </tr>\n",
       "  </tbody>\n",
       "</table>\n",
       "</div>"
      ],
      "text/plain": [
       "                    name  selling_price         year seller_type      owner  \\\n",
       "count                986     986.000000   986.000000         986        986   \n",
       "unique               255            NaN          NaN           2          3   \n",
       "top     Bajaj Pulsar 150            NaN          NaN  Individual  1st owner   \n",
       "freq                  40            NaN          NaN         982        869   \n",
       "mean                 NaN   54242.383367  2014.130832         NaN        NaN   \n",
       "std                  NaN   35887.881558     3.704863         NaN        NaN   \n",
       "min                  NaN    6000.000000  2001.000000         NaN        NaN   \n",
       "25%                  NaN   29925.000000  2012.000000         NaN        NaN   \n",
       "50%                  NaN   45000.000000  2015.000000         NaN        NaN   \n",
       "75%                  NaN   70000.000000  2017.000000         NaN        NaN   \n",
       "max                  NaN  175000.000000  2020.000000         NaN        NaN   \n",
       "\n",
       "           km_driven  \n",
       "count     986.000000  \n",
       "unique           NaN  \n",
       "top              NaN  \n",
       "freq             NaN  \n",
       "mean    29451.018256  \n",
       "std     20398.384830  \n",
       "min       350.000000  \n",
       "25%     14000.000000  \n",
       "50%     25000.000000  \n",
       "75%     40000.000000  \n",
       "max     99000.000000  "
      ]
     },
     "execution_count": 20,
     "metadata": {},
     "output_type": "execute_result"
    }
   ],
   "source": [
    "df_no_outlier.describe(include= 'all')"
   ]
  },
  {
   "cell_type": "code",
   "execution_count": 21,
   "metadata": {},
   "outputs": [],
   "source": [
    "df_object = df_no_outlier.select_dtypes(include = 'object')\n",
    "df_numeric = df_no_outlier.select_dtypes (exclude = 'object')"
   ]
  },
  {
   "cell_type": "code",
   "execution_count": 22,
   "metadata": {},
   "outputs": [
    {
     "data": {
      "text/html": [
       "<div>\n",
       "<style scoped>\n",
       "    .dataframe tbody tr th:only-of-type {\n",
       "        vertical-align: middle;\n",
       "    }\n",
       "\n",
       "    .dataframe tbody tr th {\n",
       "        vertical-align: top;\n",
       "    }\n",
       "\n",
       "    .dataframe thead th {\n",
       "        text-align: right;\n",
       "    }\n",
       "</style>\n",
       "<table border=\"1\" class=\"dataframe\">\n",
       "  <thead>\n",
       "    <tr style=\"text-align: right;\">\n",
       "      <th></th>\n",
       "      <th>name</th>\n",
       "      <th>seller_type</th>\n",
       "      <th>owner</th>\n",
       "    </tr>\n",
       "  </thead>\n",
       "  <tbody>\n",
       "    <tr>\n",
       "      <th>0</th>\n",
       "      <td>Royal Enfield Classic 350</td>\n",
       "      <td>Individual</td>\n",
       "      <td>1st owner</td>\n",
       "    </tr>\n",
       "    <tr>\n",
       "      <th>1</th>\n",
       "      <td>Honda Dio</td>\n",
       "      <td>Individual</td>\n",
       "      <td>1st owner</td>\n",
       "    </tr>\n",
       "    <tr>\n",
       "      <th>2</th>\n",
       "      <td>Royal Enfield Classic Gunmetal Grey</td>\n",
       "      <td>Individual</td>\n",
       "      <td>1st owner</td>\n",
       "    </tr>\n",
       "    <tr>\n",
       "      <th>3</th>\n",
       "      <td>Yamaha Fazer FI V 2.0 [2016-2018]</td>\n",
       "      <td>Individual</td>\n",
       "      <td>1st owner</td>\n",
       "    </tr>\n",
       "    <tr>\n",
       "      <th>4</th>\n",
       "      <td>Yamaha SZ [2013-2014]</td>\n",
       "      <td>Individual</td>\n",
       "      <td>2nd owner</td>\n",
       "    </tr>\n",
       "    <tr>\n",
       "      <th>...</th>\n",
       "      <td>...</td>\n",
       "      <td>...</td>\n",
       "      <td>...</td>\n",
       "    </tr>\n",
       "    <tr>\n",
       "      <th>1055</th>\n",
       "      <td>Bajaj  ct 100</td>\n",
       "      <td>Individual</td>\n",
       "      <td>1st owner</td>\n",
       "    </tr>\n",
       "    <tr>\n",
       "      <th>1057</th>\n",
       "      <td>Honda CB twister</td>\n",
       "      <td>Individual</td>\n",
       "      <td>1st owner</td>\n",
       "    </tr>\n",
       "    <tr>\n",
       "      <th>1058</th>\n",
       "      <td>Bajaj Discover 125</td>\n",
       "      <td>Individual</td>\n",
       "      <td>2nd owner</td>\n",
       "    </tr>\n",
       "    <tr>\n",
       "      <th>1059</th>\n",
       "      <td>Honda CB Shine</td>\n",
       "      <td>Individual</td>\n",
       "      <td>1st owner</td>\n",
       "    </tr>\n",
       "    <tr>\n",
       "      <th>1060</th>\n",
       "      <td>Bajaj Pulsar 150</td>\n",
       "      <td>Individual</td>\n",
       "      <td>1st owner</td>\n",
       "    </tr>\n",
       "  </tbody>\n",
       "</table>\n",
       "<p>986 rows × 3 columns</p>\n",
       "</div>"
      ],
      "text/plain": [
       "                                     name seller_type      owner\n",
       "0               Royal Enfield Classic 350  Individual  1st owner\n",
       "1                               Honda Dio  Individual  1st owner\n",
       "2     Royal Enfield Classic Gunmetal Grey  Individual  1st owner\n",
       "3       Yamaha Fazer FI V 2.0 [2016-2018]  Individual  1st owner\n",
       "4                   Yamaha SZ [2013-2014]  Individual  2nd owner\n",
       "...                                   ...         ...        ...\n",
       "1055                        Bajaj  ct 100  Individual  1st owner\n",
       "1057                     Honda CB twister  Individual  1st owner\n",
       "1058                   Bajaj Discover 125  Individual  2nd owner\n",
       "1059                       Honda CB Shine  Individual  1st owner\n",
       "1060                     Bajaj Pulsar 150  Individual  1st owner\n",
       "\n",
       "[986 rows x 3 columns]"
      ]
     },
     "execution_count": 22,
     "metadata": {},
     "output_type": "execute_result"
    }
   ],
   "source": [
    "df_object"
   ]
  },
  {
   "cell_type": "code",
   "execution_count": null,
   "metadata": {},
   "outputs": [],
   "source": []
  },
  {
   "cell_type": "code",
   "execution_count": 23,
   "metadata": {},
   "outputs": [],
   "source": [
    "df_object_dummies = pd.get_dummies(df_object.name, drop_first =True)"
   ]
  },
  {
   "cell_type": "code",
   "execution_count": 24,
   "metadata": {},
   "outputs": [],
   "source": [
    "df_object_dummies1 = pd.get_dummies(df_object.seller_type, drop_first =True)"
   ]
  },
  {
   "cell_type": "code",
   "execution_count": 25,
   "metadata": {},
   "outputs": [],
   "source": [
    "df_object_dummies2 = pd.get_dummies(df_object.owner, drop_first =True)"
   ]
  },
  {
   "cell_type": "code",
   "execution_count": null,
   "metadata": {},
   "outputs": [],
   "source": []
  },
  {
   "cell_type": "code",
   "execution_count": 26,
   "metadata": {},
   "outputs": [],
   "source": [
    "final_df = pd.concat([df_object_dummies, df_object_dummies1, df_object_dummies2], axis = 1)"
   ]
  },
  {
   "cell_type": "code",
   "execution_count": 27,
   "metadata": {},
   "outputs": [],
   "source": [
    "final_df1 = pd.concat([df_numeric, final_df], axis = 1)"
   ]
  },
  {
   "cell_type": "code",
   "execution_count": 28,
   "metadata": {},
   "outputs": [
    {
     "data": {
      "text/html": [
       "<div>\n",
       "<style scoped>\n",
       "    .dataframe tbody tr th:only-of-type {\n",
       "        vertical-align: middle;\n",
       "    }\n",
       "\n",
       "    .dataframe tbody tr th {\n",
       "        vertical-align: top;\n",
       "    }\n",
       "\n",
       "    .dataframe thead th {\n",
       "        text-align: right;\n",
       "    }\n",
       "</style>\n",
       "<table border=\"1\" class=\"dataframe\">\n",
       "  <thead>\n",
       "    <tr style=\"text-align: right;\">\n",
       "      <th></th>\n",
       "      <th>selling_price</th>\n",
       "      <th>year</th>\n",
       "      <th>km_driven</th>\n",
       "      <th>Activa 4g</th>\n",
       "      <th>Aprilia SR 125</th>\n",
       "      <th>Bajaj  ct 100</th>\n",
       "      <th>Bajaj Avenger 150</th>\n",
       "      <th>Bajaj Avenger 150 street</th>\n",
       "      <th>Bajaj Avenger 220</th>\n",
       "      <th>Bajaj Avenger 220 dtsi</th>\n",
       "      <th>...</th>\n",
       "      <th>Yamaha Saluto</th>\n",
       "      <th>Yamaha Saluto RX</th>\n",
       "      <th>Yamaha YBR 125</th>\n",
       "      <th>Yamaha YZF R15 S</th>\n",
       "      <th>Yamaha YZF R15 V3</th>\n",
       "      <th>Yamaha YZF R15 [2011-2018]</th>\n",
       "      <th>Yo Style</th>\n",
       "      <th>Individual</th>\n",
       "      <th>2nd owner</th>\n",
       "      <th>3rd owner</th>\n",
       "    </tr>\n",
       "  </thead>\n",
       "  <tbody>\n",
       "    <tr>\n",
       "      <th>0</th>\n",
       "      <td>175000</td>\n",
       "      <td>2019</td>\n",
       "      <td>350</td>\n",
       "      <td>0</td>\n",
       "      <td>0</td>\n",
       "      <td>0</td>\n",
       "      <td>0</td>\n",
       "      <td>0</td>\n",
       "      <td>0</td>\n",
       "      <td>0</td>\n",
       "      <td>...</td>\n",
       "      <td>0</td>\n",
       "      <td>0</td>\n",
       "      <td>0</td>\n",
       "      <td>0</td>\n",
       "      <td>0</td>\n",
       "      <td>0</td>\n",
       "      <td>0</td>\n",
       "      <td>1</td>\n",
       "      <td>0</td>\n",
       "      <td>0</td>\n",
       "    </tr>\n",
       "    <tr>\n",
       "      <th>1</th>\n",
       "      <td>45000</td>\n",
       "      <td>2017</td>\n",
       "      <td>5650</td>\n",
       "      <td>0</td>\n",
       "      <td>0</td>\n",
       "      <td>0</td>\n",
       "      <td>0</td>\n",
       "      <td>0</td>\n",
       "      <td>0</td>\n",
       "      <td>0</td>\n",
       "      <td>...</td>\n",
       "      <td>0</td>\n",
       "      <td>0</td>\n",
       "      <td>0</td>\n",
       "      <td>0</td>\n",
       "      <td>0</td>\n",
       "      <td>0</td>\n",
       "      <td>0</td>\n",
       "      <td>1</td>\n",
       "      <td>0</td>\n",
       "      <td>0</td>\n",
       "    </tr>\n",
       "    <tr>\n",
       "      <th>2</th>\n",
       "      <td>150000</td>\n",
       "      <td>2018</td>\n",
       "      <td>12000</td>\n",
       "      <td>0</td>\n",
       "      <td>0</td>\n",
       "      <td>0</td>\n",
       "      <td>0</td>\n",
       "      <td>0</td>\n",
       "      <td>0</td>\n",
       "      <td>0</td>\n",
       "      <td>...</td>\n",
       "      <td>0</td>\n",
       "      <td>0</td>\n",
       "      <td>0</td>\n",
       "      <td>0</td>\n",
       "      <td>0</td>\n",
       "      <td>0</td>\n",
       "      <td>0</td>\n",
       "      <td>1</td>\n",
       "      <td>0</td>\n",
       "      <td>0</td>\n",
       "    </tr>\n",
       "    <tr>\n",
       "      <th>3</th>\n",
       "      <td>65000</td>\n",
       "      <td>2015</td>\n",
       "      <td>23000</td>\n",
       "      <td>0</td>\n",
       "      <td>0</td>\n",
       "      <td>0</td>\n",
       "      <td>0</td>\n",
       "      <td>0</td>\n",
       "      <td>0</td>\n",
       "      <td>0</td>\n",
       "      <td>...</td>\n",
       "      <td>0</td>\n",
       "      <td>0</td>\n",
       "      <td>0</td>\n",
       "      <td>0</td>\n",
       "      <td>0</td>\n",
       "      <td>0</td>\n",
       "      <td>0</td>\n",
       "      <td>1</td>\n",
       "      <td>0</td>\n",
       "      <td>0</td>\n",
       "    </tr>\n",
       "    <tr>\n",
       "      <th>4</th>\n",
       "      <td>20000</td>\n",
       "      <td>2011</td>\n",
       "      <td>21000</td>\n",
       "      <td>0</td>\n",
       "      <td>0</td>\n",
       "      <td>0</td>\n",
       "      <td>0</td>\n",
       "      <td>0</td>\n",
       "      <td>0</td>\n",
       "      <td>0</td>\n",
       "      <td>...</td>\n",
       "      <td>0</td>\n",
       "      <td>0</td>\n",
       "      <td>0</td>\n",
       "      <td>0</td>\n",
       "      <td>0</td>\n",
       "      <td>0</td>\n",
       "      <td>0</td>\n",
       "      <td>1</td>\n",
       "      <td>1</td>\n",
       "      <td>0</td>\n",
       "    </tr>\n",
       "    <tr>\n",
       "      <th>...</th>\n",
       "      <td>...</td>\n",
       "      <td>...</td>\n",
       "      <td>...</td>\n",
       "      <td>...</td>\n",
       "      <td>...</td>\n",
       "      <td>...</td>\n",
       "      <td>...</td>\n",
       "      <td>...</td>\n",
       "      <td>...</td>\n",
       "      <td>...</td>\n",
       "      <td>...</td>\n",
       "      <td>...</td>\n",
       "      <td>...</td>\n",
       "      <td>...</td>\n",
       "      <td>...</td>\n",
       "      <td>...</td>\n",
       "      <td>...</td>\n",
       "      <td>...</td>\n",
       "      <td>...</td>\n",
       "      <td>...</td>\n",
       "      <td>...</td>\n",
       "    </tr>\n",
       "    <tr>\n",
       "      <th>1055</th>\n",
       "      <td>18000</td>\n",
       "      <td>2017</td>\n",
       "      <td>35000</td>\n",
       "      <td>0</td>\n",
       "      <td>0</td>\n",
       "      <td>1</td>\n",
       "      <td>0</td>\n",
       "      <td>0</td>\n",
       "      <td>0</td>\n",
       "      <td>0</td>\n",
       "      <td>...</td>\n",
       "      <td>0</td>\n",
       "      <td>0</td>\n",
       "      <td>0</td>\n",
       "      <td>0</td>\n",
       "      <td>0</td>\n",
       "      <td>0</td>\n",
       "      <td>0</td>\n",
       "      <td>1</td>\n",
       "      <td>0</td>\n",
       "      <td>0</td>\n",
       "    </tr>\n",
       "    <tr>\n",
       "      <th>1057</th>\n",
       "      <td>16000</td>\n",
       "      <td>2012</td>\n",
       "      <td>33000</td>\n",
       "      <td>0</td>\n",
       "      <td>0</td>\n",
       "      <td>0</td>\n",
       "      <td>0</td>\n",
       "      <td>0</td>\n",
       "      <td>0</td>\n",
       "      <td>0</td>\n",
       "      <td>...</td>\n",
       "      <td>0</td>\n",
       "      <td>0</td>\n",
       "      <td>0</td>\n",
       "      <td>0</td>\n",
       "      <td>0</td>\n",
       "      <td>0</td>\n",
       "      <td>0</td>\n",
       "      <td>1</td>\n",
       "      <td>0</td>\n",
       "      <td>0</td>\n",
       "    </tr>\n",
       "    <tr>\n",
       "      <th>1058</th>\n",
       "      <td>15000</td>\n",
       "      <td>2013</td>\n",
       "      <td>35000</td>\n",
       "      <td>0</td>\n",
       "      <td>0</td>\n",
       "      <td>0</td>\n",
       "      <td>0</td>\n",
       "      <td>0</td>\n",
       "      <td>0</td>\n",
       "      <td>0</td>\n",
       "      <td>...</td>\n",
       "      <td>0</td>\n",
       "      <td>0</td>\n",
       "      <td>0</td>\n",
       "      <td>0</td>\n",
       "      <td>0</td>\n",
       "      <td>0</td>\n",
       "      <td>0</td>\n",
       "      <td>1</td>\n",
       "      <td>1</td>\n",
       "      <td>0</td>\n",
       "    </tr>\n",
       "    <tr>\n",
       "      <th>1059</th>\n",
       "      <td>12000</td>\n",
       "      <td>2009</td>\n",
       "      <td>53000</td>\n",
       "      <td>0</td>\n",
       "      <td>0</td>\n",
       "      <td>0</td>\n",
       "      <td>0</td>\n",
       "      <td>0</td>\n",
       "      <td>0</td>\n",
       "      <td>0</td>\n",
       "      <td>...</td>\n",
       "      <td>0</td>\n",
       "      <td>0</td>\n",
       "      <td>0</td>\n",
       "      <td>0</td>\n",
       "      <td>0</td>\n",
       "      <td>0</td>\n",
       "      <td>0</td>\n",
       "      <td>1</td>\n",
       "      <td>0</td>\n",
       "      <td>0</td>\n",
       "    </tr>\n",
       "    <tr>\n",
       "      <th>1060</th>\n",
       "      <td>10000</td>\n",
       "      <td>2008</td>\n",
       "      <td>92233</td>\n",
       "      <td>0</td>\n",
       "      <td>0</td>\n",
       "      <td>0</td>\n",
       "      <td>0</td>\n",
       "      <td>0</td>\n",
       "      <td>0</td>\n",
       "      <td>0</td>\n",
       "      <td>...</td>\n",
       "      <td>0</td>\n",
       "      <td>0</td>\n",
       "      <td>0</td>\n",
       "      <td>0</td>\n",
       "      <td>0</td>\n",
       "      <td>0</td>\n",
       "      <td>0</td>\n",
       "      <td>1</td>\n",
       "      <td>0</td>\n",
       "      <td>0</td>\n",
       "    </tr>\n",
       "  </tbody>\n",
       "</table>\n",
       "<p>986 rows × 260 columns</p>\n",
       "</div>"
      ],
      "text/plain": [
       "      selling_price  year  km_driven  Activa 4g  Aprilia SR 125  \\\n",
       "0            175000  2019        350          0               0   \n",
       "1             45000  2017       5650          0               0   \n",
       "2            150000  2018      12000          0               0   \n",
       "3             65000  2015      23000          0               0   \n",
       "4             20000  2011      21000          0               0   \n",
       "...             ...   ...        ...        ...             ...   \n",
       "1055          18000  2017      35000          0               0   \n",
       "1057          16000  2012      33000          0               0   \n",
       "1058          15000  2013      35000          0               0   \n",
       "1059          12000  2009      53000          0               0   \n",
       "1060          10000  2008      92233          0               0   \n",
       "\n",
       "      Bajaj  ct 100  Bajaj Avenger 150  Bajaj Avenger 150 street  \\\n",
       "0                 0                  0                         0   \n",
       "1                 0                  0                         0   \n",
       "2                 0                  0                         0   \n",
       "3                 0                  0                         0   \n",
       "4                 0                  0                         0   \n",
       "...             ...                ...                       ...   \n",
       "1055              1                  0                         0   \n",
       "1057              0                  0                         0   \n",
       "1058              0                  0                         0   \n",
       "1059              0                  0                         0   \n",
       "1060              0                  0                         0   \n",
       "\n",
       "      Bajaj Avenger 220  Bajaj Avenger 220 dtsi  ...  Yamaha Saluto  \\\n",
       "0                     0                       0  ...              0   \n",
       "1                     0                       0  ...              0   \n",
       "2                     0                       0  ...              0   \n",
       "3                     0                       0  ...              0   \n",
       "4                     0                       0  ...              0   \n",
       "...                 ...                     ...  ...            ...   \n",
       "1055                  0                       0  ...              0   \n",
       "1057                  0                       0  ...              0   \n",
       "1058                  0                       0  ...              0   \n",
       "1059                  0                       0  ...              0   \n",
       "1060                  0                       0  ...              0   \n",
       "\n",
       "      Yamaha Saluto RX  Yamaha YBR 125  Yamaha YZF R15 S  Yamaha YZF R15 V3  \\\n",
       "0                    0               0                 0                  0   \n",
       "1                    0               0                 0                  0   \n",
       "2                    0               0                 0                  0   \n",
       "3                    0               0                 0                  0   \n",
       "4                    0               0                 0                  0   \n",
       "...                ...             ...               ...                ...   \n",
       "1055                 0               0                 0                  0   \n",
       "1057                 0               0                 0                  0   \n",
       "1058                 0               0                 0                  0   \n",
       "1059                 0               0                 0                  0   \n",
       "1060                 0               0                 0                  0   \n",
       "\n",
       "      Yamaha YZF R15 [2011-2018]  Yo Style  Individual  2nd owner  3rd owner  \n",
       "0                              0         0           1          0          0  \n",
       "1                              0         0           1          0          0  \n",
       "2                              0         0           1          0          0  \n",
       "3                              0         0           1          0          0  \n",
       "4                              0         0           1          1          0  \n",
       "...                          ...       ...         ...        ...        ...  \n",
       "1055                           0         0           1          0          0  \n",
       "1057                           0         0           1          0          0  \n",
       "1058                           0         0           1          1          0  \n",
       "1059                           0         0           1          0          0  \n",
       "1060                           0         0           1          0          0  \n",
       "\n",
       "[986 rows x 260 columns]"
      ]
     },
     "execution_count": 28,
     "metadata": {},
     "output_type": "execute_result"
    }
   ],
   "source": [
    "final_df1"
   ]
  },
  {
   "cell_type": "code",
   "execution_count": 29,
   "metadata": {},
   "outputs": [
    {
     "data": {
      "text/html": [
       "<div>\n",
       "<style scoped>\n",
       "    .dataframe tbody tr th:only-of-type {\n",
       "        vertical-align: middle;\n",
       "    }\n",
       "\n",
       "    .dataframe tbody tr th {\n",
       "        vertical-align: top;\n",
       "    }\n",
       "\n",
       "    .dataframe thead th {\n",
       "        text-align: right;\n",
       "    }\n",
       "</style>\n",
       "<table border=\"1\" class=\"dataframe\">\n",
       "  <thead>\n",
       "    <tr style=\"text-align: right;\">\n",
       "      <th></th>\n",
       "      <th>selling_price</th>\n",
       "      <th>year</th>\n",
       "      <th>km_driven</th>\n",
       "      <th>Activa 4g</th>\n",
       "      <th>Aprilia SR 125</th>\n",
       "      <th>Bajaj  ct 100</th>\n",
       "      <th>Bajaj Avenger 150</th>\n",
       "      <th>Bajaj Avenger 150 street</th>\n",
       "      <th>Bajaj Avenger 220</th>\n",
       "      <th>Bajaj Avenger 220 dtsi</th>\n",
       "      <th>...</th>\n",
       "      <th>Yamaha Saluto</th>\n",
       "      <th>Yamaha Saluto RX</th>\n",
       "      <th>Yamaha YBR 125</th>\n",
       "      <th>Yamaha YZF R15 S</th>\n",
       "      <th>Yamaha YZF R15 V3</th>\n",
       "      <th>Yamaha YZF R15 [2011-2018]</th>\n",
       "      <th>Yo Style</th>\n",
       "      <th>Individual</th>\n",
       "      <th>2nd owner</th>\n",
       "      <th>3rd owner</th>\n",
       "    </tr>\n",
       "  </thead>\n",
       "  <tbody>\n",
       "    <tr>\n",
       "      <th>count</th>\n",
       "      <td>986.000000</td>\n",
       "      <td>986.000000</td>\n",
       "      <td>986.000000</td>\n",
       "      <td>986.000000</td>\n",
       "      <td>986.000000</td>\n",
       "      <td>986.000000</td>\n",
       "      <td>986.000000</td>\n",
       "      <td>986.000000</td>\n",
       "      <td>986.000000</td>\n",
       "      <td>986.000000</td>\n",
       "      <td>...</td>\n",
       "      <td>986.000000</td>\n",
       "      <td>986.000000</td>\n",
       "      <td>986.000000</td>\n",
       "      <td>986.000000</td>\n",
       "      <td>986.000000</td>\n",
       "      <td>986.000000</td>\n",
       "      <td>986.000000</td>\n",
       "      <td>986.000000</td>\n",
       "      <td>986.000000</td>\n",
       "      <td>986.000000</td>\n",
       "    </tr>\n",
       "    <tr>\n",
       "      <th>mean</th>\n",
       "      <td>54242.383367</td>\n",
       "      <td>2014.130832</td>\n",
       "      <td>29451.018256</td>\n",
       "      <td>0.001014</td>\n",
       "      <td>0.002028</td>\n",
       "      <td>0.001014</td>\n",
       "      <td>0.001014</td>\n",
       "      <td>0.001014</td>\n",
       "      <td>0.003043</td>\n",
       "      <td>0.002028</td>\n",
       "      <td>...</td>\n",
       "      <td>0.003043</td>\n",
       "      <td>0.001014</td>\n",
       "      <td>0.002028</td>\n",
       "      <td>0.006085</td>\n",
       "      <td>0.002028</td>\n",
       "      <td>0.006085</td>\n",
       "      <td>0.001014</td>\n",
       "      <td>0.995943</td>\n",
       "      <td>0.110548</td>\n",
       "      <td>0.008114</td>\n",
       "    </tr>\n",
       "    <tr>\n",
       "      <th>std</th>\n",
       "      <td>35887.881558</td>\n",
       "      <td>3.704863</td>\n",
       "      <td>20398.384830</td>\n",
       "      <td>0.031846</td>\n",
       "      <td>0.045015</td>\n",
       "      <td>0.031846</td>\n",
       "      <td>0.031846</td>\n",
       "      <td>0.031846</td>\n",
       "      <td>0.055104</td>\n",
       "      <td>0.045015</td>\n",
       "      <td>...</td>\n",
       "      <td>0.055104</td>\n",
       "      <td>0.031846</td>\n",
       "      <td>0.045015</td>\n",
       "      <td>0.077809</td>\n",
       "      <td>0.045015</td>\n",
       "      <td>0.077809</td>\n",
       "      <td>0.031846</td>\n",
       "      <td>0.063596</td>\n",
       "      <td>0.313730</td>\n",
       "      <td>0.089755</td>\n",
       "    </tr>\n",
       "    <tr>\n",
       "      <th>min</th>\n",
       "      <td>6000.000000</td>\n",
       "      <td>2001.000000</td>\n",
       "      <td>350.000000</td>\n",
       "      <td>0.000000</td>\n",
       "      <td>0.000000</td>\n",
       "      <td>0.000000</td>\n",
       "      <td>0.000000</td>\n",
       "      <td>0.000000</td>\n",
       "      <td>0.000000</td>\n",
       "      <td>0.000000</td>\n",
       "      <td>...</td>\n",
       "      <td>0.000000</td>\n",
       "      <td>0.000000</td>\n",
       "      <td>0.000000</td>\n",
       "      <td>0.000000</td>\n",
       "      <td>0.000000</td>\n",
       "      <td>0.000000</td>\n",
       "      <td>0.000000</td>\n",
       "      <td>0.000000</td>\n",
       "      <td>0.000000</td>\n",
       "      <td>0.000000</td>\n",
       "    </tr>\n",
       "    <tr>\n",
       "      <th>25%</th>\n",
       "      <td>29925.000000</td>\n",
       "      <td>2012.000000</td>\n",
       "      <td>14000.000000</td>\n",
       "      <td>0.000000</td>\n",
       "      <td>0.000000</td>\n",
       "      <td>0.000000</td>\n",
       "      <td>0.000000</td>\n",
       "      <td>0.000000</td>\n",
       "      <td>0.000000</td>\n",
       "      <td>0.000000</td>\n",
       "      <td>...</td>\n",
       "      <td>0.000000</td>\n",
       "      <td>0.000000</td>\n",
       "      <td>0.000000</td>\n",
       "      <td>0.000000</td>\n",
       "      <td>0.000000</td>\n",
       "      <td>0.000000</td>\n",
       "      <td>0.000000</td>\n",
       "      <td>1.000000</td>\n",
       "      <td>0.000000</td>\n",
       "      <td>0.000000</td>\n",
       "    </tr>\n",
       "    <tr>\n",
       "      <th>50%</th>\n",
       "      <td>45000.000000</td>\n",
       "      <td>2015.000000</td>\n",
       "      <td>25000.000000</td>\n",
       "      <td>0.000000</td>\n",
       "      <td>0.000000</td>\n",
       "      <td>0.000000</td>\n",
       "      <td>0.000000</td>\n",
       "      <td>0.000000</td>\n",
       "      <td>0.000000</td>\n",
       "      <td>0.000000</td>\n",
       "      <td>...</td>\n",
       "      <td>0.000000</td>\n",
       "      <td>0.000000</td>\n",
       "      <td>0.000000</td>\n",
       "      <td>0.000000</td>\n",
       "      <td>0.000000</td>\n",
       "      <td>0.000000</td>\n",
       "      <td>0.000000</td>\n",
       "      <td>1.000000</td>\n",
       "      <td>0.000000</td>\n",
       "      <td>0.000000</td>\n",
       "    </tr>\n",
       "    <tr>\n",
       "      <th>75%</th>\n",
       "      <td>70000.000000</td>\n",
       "      <td>2017.000000</td>\n",
       "      <td>40000.000000</td>\n",
       "      <td>0.000000</td>\n",
       "      <td>0.000000</td>\n",
       "      <td>0.000000</td>\n",
       "      <td>0.000000</td>\n",
       "      <td>0.000000</td>\n",
       "      <td>0.000000</td>\n",
       "      <td>0.000000</td>\n",
       "      <td>...</td>\n",
       "      <td>0.000000</td>\n",
       "      <td>0.000000</td>\n",
       "      <td>0.000000</td>\n",
       "      <td>0.000000</td>\n",
       "      <td>0.000000</td>\n",
       "      <td>0.000000</td>\n",
       "      <td>0.000000</td>\n",
       "      <td>1.000000</td>\n",
       "      <td>0.000000</td>\n",
       "      <td>0.000000</td>\n",
       "    </tr>\n",
       "    <tr>\n",
       "      <th>max</th>\n",
       "      <td>175000.000000</td>\n",
       "      <td>2020.000000</td>\n",
       "      <td>99000.000000</td>\n",
       "      <td>1.000000</td>\n",
       "      <td>1.000000</td>\n",
       "      <td>1.000000</td>\n",
       "      <td>1.000000</td>\n",
       "      <td>1.000000</td>\n",
       "      <td>1.000000</td>\n",
       "      <td>1.000000</td>\n",
       "      <td>...</td>\n",
       "      <td>1.000000</td>\n",
       "      <td>1.000000</td>\n",
       "      <td>1.000000</td>\n",
       "      <td>1.000000</td>\n",
       "      <td>1.000000</td>\n",
       "      <td>1.000000</td>\n",
       "      <td>1.000000</td>\n",
       "      <td>1.000000</td>\n",
       "      <td>1.000000</td>\n",
       "      <td>1.000000</td>\n",
       "    </tr>\n",
       "  </tbody>\n",
       "</table>\n",
       "<p>8 rows × 260 columns</p>\n",
       "</div>"
      ],
      "text/plain": [
       "       selling_price         year     km_driven   Activa 4g  Aprilia SR 125  \\\n",
       "count     986.000000   986.000000    986.000000  986.000000      986.000000   \n",
       "mean    54242.383367  2014.130832  29451.018256    0.001014        0.002028   \n",
       "std     35887.881558     3.704863  20398.384830    0.031846        0.045015   \n",
       "min      6000.000000  2001.000000    350.000000    0.000000        0.000000   \n",
       "25%     29925.000000  2012.000000  14000.000000    0.000000        0.000000   \n",
       "50%     45000.000000  2015.000000  25000.000000    0.000000        0.000000   \n",
       "75%     70000.000000  2017.000000  40000.000000    0.000000        0.000000   \n",
       "max    175000.000000  2020.000000  99000.000000    1.000000        1.000000   \n",
       "\n",
       "       Bajaj  ct 100  Bajaj Avenger 150  Bajaj Avenger 150 street  \\\n",
       "count     986.000000         986.000000                986.000000   \n",
       "mean        0.001014           0.001014                  0.001014   \n",
       "std         0.031846           0.031846                  0.031846   \n",
       "min         0.000000           0.000000                  0.000000   \n",
       "25%         0.000000           0.000000                  0.000000   \n",
       "50%         0.000000           0.000000                  0.000000   \n",
       "75%         0.000000           0.000000                  0.000000   \n",
       "max         1.000000           1.000000                  1.000000   \n",
       "\n",
       "       Bajaj Avenger 220  Bajaj Avenger 220 dtsi  ...  Yamaha Saluto  \\\n",
       "count         986.000000              986.000000  ...     986.000000   \n",
       "mean            0.003043                0.002028  ...       0.003043   \n",
       "std             0.055104                0.045015  ...       0.055104   \n",
       "min             0.000000                0.000000  ...       0.000000   \n",
       "25%             0.000000                0.000000  ...       0.000000   \n",
       "50%             0.000000                0.000000  ...       0.000000   \n",
       "75%             0.000000                0.000000  ...       0.000000   \n",
       "max             1.000000                1.000000  ...       1.000000   \n",
       "\n",
       "       Yamaha Saluto RX  Yamaha YBR 125  Yamaha YZF R15 S  Yamaha YZF R15 V3  \\\n",
       "count        986.000000      986.000000        986.000000         986.000000   \n",
       "mean           0.001014        0.002028          0.006085           0.002028   \n",
       "std            0.031846        0.045015          0.077809           0.045015   \n",
       "min            0.000000        0.000000          0.000000           0.000000   \n",
       "25%            0.000000        0.000000          0.000000           0.000000   \n",
       "50%            0.000000        0.000000          0.000000           0.000000   \n",
       "75%            0.000000        0.000000          0.000000           0.000000   \n",
       "max            1.000000        1.000000          1.000000           1.000000   \n",
       "\n",
       "       Yamaha YZF R15 [2011-2018]    Yo Style  Individual   2nd owner  \\\n",
       "count                  986.000000  986.000000  986.000000  986.000000   \n",
       "mean                     0.006085    0.001014    0.995943    0.110548   \n",
       "std                      0.077809    0.031846    0.063596    0.313730   \n",
       "min                      0.000000    0.000000    0.000000    0.000000   \n",
       "25%                      0.000000    0.000000    1.000000    0.000000   \n",
       "50%                      0.000000    0.000000    1.000000    0.000000   \n",
       "75%                      0.000000    0.000000    1.000000    0.000000   \n",
       "max                      1.000000    1.000000    1.000000    1.000000   \n",
       "\n",
       "        3rd owner  \n",
       "count  986.000000  \n",
       "mean     0.008114  \n",
       "std      0.089755  \n",
       "min      0.000000  \n",
       "25%      0.000000  \n",
       "50%      0.000000  \n",
       "75%      0.000000  \n",
       "max      1.000000  \n",
       "\n",
       "[8 rows x 260 columns]"
      ]
     },
     "execution_count": 29,
     "metadata": {},
     "output_type": "execute_result"
    }
   ],
   "source": [
    "final_df1.describe(include = 'all')"
   ]
  },
  {
   "cell_type": "code",
   "execution_count": 30,
   "metadata": {},
   "outputs": [
    {
     "data": {
      "text/plain": [
       "km_driven                        -0.456714\n",
       "Hero Honda Splendor Plus         -0.120823\n",
       "Honda Activa [2000-2015]         -0.116000\n",
       "2nd owner                        -0.112209\n",
       "Bajaj Discover 125               -0.096871\n",
       "                                    ...   \n",
       "Royal Enfield Thunderbird 350     0.189076\n",
       "Royal Enfield Thunderbird 350X    0.235840\n",
       "Royal Enfield Classic 350         0.349870\n",
       "year                              0.556753\n",
       "selling_price                     1.000000\n",
       "Name: selling_price, Length: 260, dtype: float64"
      ]
     },
     "execution_count": 30,
     "metadata": {},
     "output_type": "execute_result"
    }
   ],
   "source": [
    "final_df1.corr()['selling_price'].sort_values()"
   ]
  },
  {
   "cell_type": "code",
   "execution_count": 31,
   "metadata": {},
   "outputs": [],
   "source": [
    "df = final_df1"
   ]
  },
  {
   "cell_type": "code",
   "execution_count": 32,
   "metadata": {},
   "outputs": [
    {
     "name": "stdout",
     "output_type": "stream",
     "text": [
      "<class 'pandas.core.frame.DataFrame'>\n",
      "Int64Index: 986 entries, 0 to 1060\n",
      "Columns: 260 entries, selling_price to 3rd owner\n",
      "dtypes: int64(3), uint8(257)\n",
      "memory usage: 278.3 KB\n"
     ]
    }
   ],
   "source": [
    "df.info()"
   ]
  },
  {
   "cell_type": "code",
   "execution_count": 33,
   "metadata": {},
   "outputs": [],
   "source": [
    "X = df.drop('selling_price', axis = 1)"
   ]
  },
  {
   "cell_type": "code",
   "execution_count": 34,
   "metadata": {},
   "outputs": [],
   "source": [
    "y = df['selling_price']"
   ]
  },
  {
   "cell_type": "code",
   "execution_count": 35,
   "metadata": {},
   "outputs": [
    {
     "data": {
      "text/plain": [
       "0       175000\n",
       "1        45000\n",
       "2       150000\n",
       "3        65000\n",
       "4        20000\n",
       "         ...  \n",
       "1055     18000\n",
       "1057     16000\n",
       "1058     15000\n",
       "1059     12000\n",
       "1060     10000\n",
       "Name: selling_price, Length: 986, dtype: int64"
      ]
     },
     "execution_count": 35,
     "metadata": {},
     "output_type": "execute_result"
    }
   ],
   "source": [
    "y"
   ]
  },
  {
   "cell_type": "code",
   "execution_count": null,
   "metadata": {},
   "outputs": [],
   "source": []
  },
  {
   "cell_type": "code",
   "execution_count": null,
   "metadata": {},
   "outputs": [],
   "source": []
  },
  {
   "cell_type": "code",
   "execution_count": 36,
   "metadata": {},
   "outputs": [],
   "source": [
    "# from sklearn.preprocessing import StandardScaler"
   ]
  },
  {
   "cell_type": "code",
   "execution_count": 37,
   "metadata": {},
   "outputs": [],
   "source": [
    "# scaler = StandardScaler()"
   ]
  },
  {
   "cell_type": "code",
   "execution_count": 38,
   "metadata": {},
   "outputs": [],
   "source": [
    "# scaled_X_train = scaler.fit_transform(X_train)\n",
    "# scaled_X_test = scaler.transform(X_test)"
   ]
  },
  {
   "cell_type": "code",
   "execution_count": 39,
   "metadata": {},
   "outputs": [
    {
     "name": "stderr",
     "output_type": "stream",
     "text": [
      "C:\\Users\\assim\\anaconda3\\lib\\site-packages\\sklearn\\linear_model\\_ridge.py:156: LinAlgWarning: Ill-conditioned matrix (rcond=3.04619e-27): result may not be accurate.\n",
      "  return linalg.solve(A, Xy, sym_pos=True, overwrite_a=True).T\n",
      "C:\\Users\\assim\\anaconda3\\lib\\site-packages\\sklearn\\linear_model\\_ridge.py:156: LinAlgWarning: Ill-conditioned matrix (rcond=2.93584e-27): result may not be accurate.\n",
      "  return linalg.solve(A, Xy, sym_pos=True, overwrite_a=True).T\n",
      "C:\\Users\\assim\\anaconda3\\lib\\site-packages\\sklearn\\linear_model\\_ridge.py:156: LinAlgWarning: Ill-conditioned matrix (rcond=3.08513e-27): result may not be accurate.\n",
      "  return linalg.solve(A, Xy, sym_pos=True, overwrite_a=True).T\n",
      "C:\\Users\\assim\\anaconda3\\lib\\site-packages\\sklearn\\linear_model\\_ridge.py:156: LinAlgWarning: Ill-conditioned matrix (rcond=3.10293e-27): result may not be accurate.\n",
      "  return linalg.solve(A, Xy, sym_pos=True, overwrite_a=True).T\n",
      "C:\\Users\\assim\\anaconda3\\lib\\site-packages\\sklearn\\linear_model\\_ridge.py:156: LinAlgWarning: Ill-conditioned matrix (rcond=3.04619e-22): result may not be accurate.\n",
      "  return linalg.solve(A, Xy, sym_pos=True, overwrite_a=True).T\n",
      "C:\\Users\\assim\\anaconda3\\lib\\site-packages\\sklearn\\linear_model\\_ridge.py:156: LinAlgWarning: Ill-conditioned matrix (rcond=2.93584e-22): result may not be accurate.\n",
      "  return linalg.solve(A, Xy, sym_pos=True, overwrite_a=True).T\n",
      "C:\\Users\\assim\\anaconda3\\lib\\site-packages\\sklearn\\linear_model\\_ridge.py:156: LinAlgWarning: Ill-conditioned matrix (rcond=3.08513e-22): result may not be accurate.\n",
      "  return linalg.solve(A, Xy, sym_pos=True, overwrite_a=True).T\n",
      "C:\\Users\\assim\\anaconda3\\lib\\site-packages\\sklearn\\linear_model\\_ridge.py:156: LinAlgWarning: Ill-conditioned matrix (rcond=3.10293e-22): result may not be accurate.\n",
      "  return linalg.solve(A, Xy, sym_pos=True, overwrite_a=True).T\n",
      "C:\\Users\\assim\\anaconda3\\lib\\site-packages\\sklearn\\linear_model\\_ridge.py:156: LinAlgWarning: Ill-conditioned matrix (rcond=3.08893e-22): result may not be accurate.\n",
      "  return linalg.solve(A, Xy, sym_pos=True, overwrite_a=True).T\n",
      "C:\\Users\\assim\\anaconda3\\lib\\site-packages\\sklearn\\linear_model\\_ridge.py:156: LinAlgWarning: Ill-conditioned matrix (rcond=3.04619e-20): result may not be accurate.\n",
      "  return linalg.solve(A, Xy, sym_pos=True, overwrite_a=True).T\n",
      "C:\\Users\\assim\\anaconda3\\lib\\site-packages\\sklearn\\linear_model\\_ridge.py:156: LinAlgWarning: Ill-conditioned matrix (rcond=2.93584e-20): result may not be accurate.\n",
      "  return linalg.solve(A, Xy, sym_pos=True, overwrite_a=True).T\n",
      "C:\\Users\\assim\\anaconda3\\lib\\site-packages\\sklearn\\linear_model\\_ridge.py:156: LinAlgWarning: Ill-conditioned matrix (rcond=3.08513e-20): result may not be accurate.\n",
      "  return linalg.solve(A, Xy, sym_pos=True, overwrite_a=True).T\n",
      "C:\\Users\\assim\\anaconda3\\lib\\site-packages\\sklearn\\linear_model\\_ridge.py:156: LinAlgWarning: Ill-conditioned matrix (rcond=3.10293e-20): result may not be accurate.\n",
      "  return linalg.solve(A, Xy, sym_pos=True, overwrite_a=True).T\n",
      "C:\\Users\\assim\\anaconda3\\lib\\site-packages\\sklearn\\linear_model\\_ridge.py:156: LinAlgWarning: Ill-conditioned matrix (rcond=3.08901e-20): result may not be accurate.\n",
      "  return linalg.solve(A, Xy, sym_pos=True, overwrite_a=True).T\n"
     ]
    },
    {
     "data": {
      "text/plain": [
       "GridSearchCV(cv=5, estimator=Ridge(),\n",
       "             param_grid={'alpha': [1e-15, 1e-10, 1e-08, 0.001, 0.01, 1, 5, 10,\n",
       "                                   20, 30, 35, 40, 45, 50, 55, 100]},\n",
       "             scoring='neg_mean_squared_error')"
      ]
     },
     "execution_count": 39,
     "metadata": {},
     "output_type": "execute_result"
    }
   ],
   "source": [
    "from sklearn.linear_model import Ridge\n",
    "from sklearn.model_selection import GridSearchCV\n",
    "\n",
    "ridge=Ridge()\n",
    "parameters={'alpha':[1e-15,1e-10,1e-8,1e-3,1e-2,1,5,10,20,30,35,40,45,50,55,100]}\n",
    "ridge_regressor=GridSearchCV(ridge,parameters,scoring='neg_mean_squared_error',cv=5)\n",
    "ridge_regressor.fit(X,y)"
   ]
  },
  {
   "cell_type": "code",
   "execution_count": 40,
   "metadata": {},
   "outputs": [
    {
     "name": "stdout",
     "output_type": "stream",
     "text": [
      "{'alpha': 0.01}\n",
      "-375521946.9768511\n"
     ]
    }
   ],
   "source": [
    "print(ridge_regressor.best_params_)\n",
    "print(ridge_regressor.best_score_)"
   ]
  },
  {
   "cell_type": "code",
   "execution_count": 41,
   "metadata": {},
   "outputs": [
    {
     "name": "stderr",
     "output_type": "stream",
     "text": [
      "C:\\Users\\assim\\anaconda3\\lib\\site-packages\\sklearn\\linear_model\\_coordinate_descent.py:645: ConvergenceWarning: Objective did not converge. You might want to increase the number of iterations, check the scale of the features or consider increasing regularisation. Duality gap: 3.058e+10, tolerance: 9.234e+07\n",
      "  model = cd_fast.enet_coordinate_descent(\n",
      "C:\\Users\\assim\\anaconda3\\lib\\site-packages\\sklearn\\linear_model\\_coordinate_descent.py:645: ConvergenceWarning: Objective did not converge. You might want to increase the number of iterations, check the scale of the features or consider increasing regularisation. Duality gap: 3.148e+10, tolerance: 9.338e+07\n",
      "  model = cd_fast.enet_coordinate_descent(\n",
      "C:\\Users\\assim\\anaconda3\\lib\\site-packages\\sklearn\\linear_model\\_coordinate_descent.py:645: ConvergenceWarning: Objective did not converge. You might want to increase the number of iterations, check the scale of the features or consider increasing regularisation. Duality gap: 3.193e+10, tolerance: 1.096e+08\n",
      "  model = cd_fast.enet_coordinate_descent(\n",
      "C:\\Users\\assim\\anaconda3\\lib\\site-packages\\sklearn\\linear_model\\_coordinate_descent.py:645: ConvergenceWarning: Objective did not converge. You might want to increase the number of iterations, check the scale of the features or consider increasing regularisation. Duality gap: 2.977e+10, tolerance: 1.099e+08\n",
      "  model = cd_fast.enet_coordinate_descent(\n",
      "C:\\Users\\assim\\anaconda3\\lib\\site-packages\\sklearn\\linear_model\\_coordinate_descent.py:645: ConvergenceWarning: Objective did not converge. You might want to increase the number of iterations, check the scale of the features or consider increasing regularisation. Duality gap: 3.304e+10, tolerance: 1.015e+08\n",
      "  model = cd_fast.enet_coordinate_descent(\n",
      "C:\\Users\\assim\\anaconda3\\lib\\site-packages\\sklearn\\linear_model\\_coordinate_descent.py:645: ConvergenceWarning: Objective did not converge. You might want to increase the number of iterations, check the scale of the features or consider increasing regularisation. Duality gap: 3.058e+10, tolerance: 9.234e+07\n",
      "  model = cd_fast.enet_coordinate_descent(\n",
      "C:\\Users\\assim\\anaconda3\\lib\\site-packages\\sklearn\\linear_model\\_coordinate_descent.py:645: ConvergenceWarning: Objective did not converge. You might want to increase the number of iterations, check the scale of the features or consider increasing regularisation. Duality gap: 3.148e+10, tolerance: 9.338e+07\n",
      "  model = cd_fast.enet_coordinate_descent(\n",
      "C:\\Users\\assim\\anaconda3\\lib\\site-packages\\sklearn\\linear_model\\_coordinate_descent.py:645: ConvergenceWarning: Objective did not converge. You might want to increase the number of iterations, check the scale of the features or consider increasing regularisation. Duality gap: 3.193e+10, tolerance: 1.096e+08\n",
      "  model = cd_fast.enet_coordinate_descent(\n",
      "C:\\Users\\assim\\anaconda3\\lib\\site-packages\\sklearn\\linear_model\\_coordinate_descent.py:645: ConvergenceWarning: Objective did not converge. You might want to increase the number of iterations, check the scale of the features or consider increasing regularisation. Duality gap: 2.977e+10, tolerance: 1.099e+08\n",
      "  model = cd_fast.enet_coordinate_descent(\n",
      "C:\\Users\\assim\\anaconda3\\lib\\site-packages\\sklearn\\linear_model\\_coordinate_descent.py:645: ConvergenceWarning: Objective did not converge. You might want to increase the number of iterations, check the scale of the features or consider increasing regularisation. Duality gap: 3.240e+10, tolerance: 1.015e+08\n",
      "  model = cd_fast.enet_coordinate_descent(\n",
      "C:\\Users\\assim\\anaconda3\\lib\\site-packages\\sklearn\\linear_model\\_coordinate_descent.py:645: ConvergenceWarning: Objective did not converge. You might want to increase the number of iterations, check the scale of the features or consider increasing regularisation. Duality gap: 3.058e+10, tolerance: 9.234e+07\n",
      "  model = cd_fast.enet_coordinate_descent(\n",
      "C:\\Users\\assim\\anaconda3\\lib\\site-packages\\sklearn\\linear_model\\_coordinate_descent.py:645: ConvergenceWarning: Objective did not converge. You might want to increase the number of iterations, check the scale of the features or consider increasing regularisation. Duality gap: 3.148e+10, tolerance: 9.338e+07\n",
      "  model = cd_fast.enet_coordinate_descent(\n",
      "C:\\Users\\assim\\anaconda3\\lib\\site-packages\\sklearn\\linear_model\\_coordinate_descent.py:645: ConvergenceWarning: Objective did not converge. You might want to increase the number of iterations, check the scale of the features or consider increasing regularisation. Duality gap: 3.193e+10, tolerance: 1.096e+08\n",
      "  model = cd_fast.enet_coordinate_descent(\n",
      "C:\\Users\\assim\\anaconda3\\lib\\site-packages\\sklearn\\linear_model\\_coordinate_descent.py:645: ConvergenceWarning: Objective did not converge. You might want to increase the number of iterations, check the scale of the features or consider increasing regularisation. Duality gap: 2.977e+10, tolerance: 1.099e+08\n",
      "  model = cd_fast.enet_coordinate_descent(\n",
      "C:\\Users\\assim\\anaconda3\\lib\\site-packages\\sklearn\\linear_model\\_coordinate_descent.py:645: ConvergenceWarning: Objective did not converge. You might want to increase the number of iterations, check the scale of the features or consider increasing regularisation. Duality gap: 2.165e+10, tolerance: 1.015e+08\n",
      "  model = cd_fast.enet_coordinate_descent(\n",
      "C:\\Users\\assim\\anaconda3\\lib\\site-packages\\sklearn\\linear_model\\_coordinate_descent.py:645: ConvergenceWarning: Objective did not converge. You might want to increase the number of iterations, check the scale of the features or consider increasing regularisation. Duality gap: 3.059e+10, tolerance: 9.234e+07\n",
      "  model = cd_fast.enet_coordinate_descent(\n",
      "C:\\Users\\assim\\anaconda3\\lib\\site-packages\\sklearn\\linear_model\\_coordinate_descent.py:645: ConvergenceWarning: Objective did not converge. You might want to increase the number of iterations, check the scale of the features or consider increasing regularisation. Duality gap: 3.149e+10, tolerance: 9.338e+07\n",
      "  model = cd_fast.enet_coordinate_descent(\n",
      "C:\\Users\\assim\\anaconda3\\lib\\site-packages\\sklearn\\linear_model\\_coordinate_descent.py:645: ConvergenceWarning: Objective did not converge. You might want to increase the number of iterations, check the scale of the features or consider increasing regularisation. Duality gap: 3.194e+10, tolerance: 1.096e+08\n",
      "  model = cd_fast.enet_coordinate_descent(\n",
      "C:\\Users\\assim\\anaconda3\\lib\\site-packages\\sklearn\\linear_model\\_coordinate_descent.py:645: ConvergenceWarning: Objective did not converge. You might want to increase the number of iterations, check the scale of the features or consider increasing regularisation. Duality gap: 2.978e+10, tolerance: 1.099e+08\n",
      "  model = cd_fast.enet_coordinate_descent(\n",
      "C:\\Users\\assim\\anaconda3\\lib\\site-packages\\sklearn\\linear_model\\_coordinate_descent.py:645: ConvergenceWarning: Objective did not converge. You might want to increase the number of iterations, check the scale of the features or consider increasing regularisation. Duality gap: 2.165e+10, tolerance: 1.015e+08\n",
      "  model = cd_fast.enet_coordinate_descent(\n",
      "C:\\Users\\assim\\anaconda3\\lib\\site-packages\\sklearn\\linear_model\\_coordinate_descent.py:645: ConvergenceWarning: Objective did not converge. You might want to increase the number of iterations, check the scale of the features or consider increasing regularisation. Duality gap: 3.063e+10, tolerance: 9.234e+07\n",
      "  model = cd_fast.enet_coordinate_descent(\n",
      "C:\\Users\\assim\\anaconda3\\lib\\site-packages\\sklearn\\linear_model\\_coordinate_descent.py:645: ConvergenceWarning: Objective did not converge. You might want to increase the number of iterations, check the scale of the features or consider increasing regularisation. Duality gap: 3.153e+10, tolerance: 9.338e+07\n",
      "  model = cd_fast.enet_coordinate_descent(\n",
      "C:\\Users\\assim\\anaconda3\\lib\\site-packages\\sklearn\\linear_model\\_coordinate_descent.py:645: ConvergenceWarning: Objective did not converge. You might want to increase the number of iterations, check the scale of the features or consider increasing regularisation. Duality gap: 3.198e+10, tolerance: 1.096e+08\n",
      "  model = cd_fast.enet_coordinate_descent(\n",
      "C:\\Users\\assim\\anaconda3\\lib\\site-packages\\sklearn\\linear_model\\_coordinate_descent.py:645: ConvergenceWarning: Objective did not converge. You might want to increase the number of iterations, check the scale of the features or consider increasing regularisation. Duality gap: 2.983e+10, tolerance: 1.099e+08\n",
      "  model = cd_fast.enet_coordinate_descent(\n",
      "C:\\Users\\assim\\anaconda3\\lib\\site-packages\\sklearn\\linear_model\\_coordinate_descent.py:645: ConvergenceWarning: Objective did not converge. You might want to increase the number of iterations, check the scale of the features or consider increasing regularisation. Duality gap: 3.304e+10, tolerance: 1.015e+08\n",
      "  model = cd_fast.enet_coordinate_descent(\n"
     ]
    },
    {
     "name": "stdout",
     "output_type": "stream",
     "text": [
      "{'alpha': 10}\n",
      "-389011509.6593361\n"
     ]
    }
   ],
   "source": [
    "from sklearn.linear_model import Lasso\n",
    "from sklearn.model_selection import GridSearchCV\n",
    "lasso=Lasso()\n",
    "parameters={'alpha':[1e-15,1e-10,1e-8,1e-3,1e-2,1,5,10,20,30,35,40,45,50,55,100]}\n",
    "lasso_regressor=GridSearchCV(lasso,parameters,scoring='neg_mean_squared_error',cv=5)\n",
    "\n",
    "lasso_regressor.fit(X,y)\n",
    "print(lasso_regressor.best_params_)\n",
    "print(lasso_regressor.best_score_)"
   ]
  },
  {
   "cell_type": "code",
   "execution_count": 42,
   "metadata": {},
   "outputs": [],
   "source": [
    "from sklearn.model_selection import train_test_split\n",
    "X_train, X_test, y_train, y_test = train_test_split(X, y, test_size=0.3, random_state=42)"
   ]
  },
  {
   "cell_type": "code",
   "execution_count": 43,
   "metadata": {},
   "outputs": [],
   "source": [
    "prediction_lasso=lasso_regressor.predict(X_test)\n",
    "prediction_ridge=ridge_regressor.predict(X_test)"
   ]
  },
  {
   "cell_type": "code",
   "execution_count": 44,
   "metadata": {},
   "outputs": [
    {
     "name": "stderr",
     "output_type": "stream",
     "text": [
      "C:\\Users\\assim\\anaconda3\\lib\\site-packages\\seaborn\\distributions.py:2551: FutureWarning: `distplot` is a deprecated function and will be removed in a future version. Please adapt your code to use either `displot` (a figure-level function with similar flexibility) or `histplot` (an axes-level function for histograms).\n",
      "  warnings.warn(msg, FutureWarning)\n"
     ]
    },
    {
     "data": {
      "text/plain": [
       "<AxesSubplot:xlabel='selling_price', ylabel='Density'>"
      ]
     },
     "execution_count": 44,
     "metadata": {},
     "output_type": "execute_result"
    },
    {
     "data": {
      "image/png": "[encoded data removed]",
      "text/plain": [
       "<Figure size 432x288 with 1 Axes>"
      ]
     },
     "metadata": {
      "needs_background": "light"
     },
     "output_type": "display_data"
    }
   ],
   "source": [
    "\n",
    "sns.distplot(y_test-prediction_lasso)"
   ]
  },
  {
   "cell_type": "code",
   "execution_count": 45,
   "metadata": {},
   "outputs": [
    {
     "name": "stderr",
     "output_type": "stream",
     "text": [
      "C:\\Users\\assim\\anaconda3\\lib\\site-packages\\seaborn\\distributions.py:2551: FutureWarning: `distplot` is a deprecated function and will be removed in a future version. Please adapt your code to use either `displot` (a figure-level function with similar flexibility) or `histplot` (an axes-level function for histograms).\n",
      "  warnings.warn(msg, FutureWarning)\n"
     ]
    },
    {
     "data": {
      "text/plain": [
       "<AxesSubplot:xlabel='selling_price', ylabel='Density'>"
      ]
     },
     "execution_count": 45,
     "metadata": {},
     "output_type": "execute_result"
    },
    {
     "data": {
      "image/png": "[encoded data removed]",
      "text/plain": [
       "<Figure size 432x288 with 1 Axes>"
      ]
     },
     "metadata": {
      "needs_background": "light"
     },
     "output_type": "display_data"
    }
   ],
   "source": [
    "sns.distplot(y_test-prediction_ridge)"
   ]
  },
  {
   "cell_type": "code",
   "execution_count": 46,
   "metadata": {},
   "outputs": [
    {
     "name": "stdout",
     "output_type": "stream",
     "text": [
      "RMSE: 9902.182578661084\n",
      "RMSE: 9275.979658876055\n"
     ]
    }
   ],
   "source": [
    "from sklearn import metrics\n",
    "print('RMSE:', np.sqrt(metrics.mean_squared_error(y_test, prediction_lasso)))\n",
    "print('RMSE:', np.sqrt(metrics.mean_squared_error(y_test, prediction_ridge)))"
   ]
  },
  {
   "cell_type": "code",
   "execution_count": 47,
   "metadata": {},
   "outputs": [
    {
     "ename": "NameError",
     "evalue": "name 'ypred2' is not defined",
     "output_type": "error",
     "traceback": [
      "\u001b[1;31m---------------------------------------------------------------------------\u001b[0m",
      "\u001b[1;31mNameError\u001b[0m                                 Traceback (most recent call last)",
      "\u001b[1;32m<ipython-input-47-514c50b89888>\u001b[0m in \u001b[0;36m<module>\u001b[1;34m\u001b[0m\n\u001b[1;32m----> 1\u001b[1;33m \u001b[0mprint\u001b[0m\u001b[1;33m(\u001b[0m\u001b[1;34m'RMSE:'\u001b[0m\u001b[1;33m,\u001b[0m \u001b[0mnp\u001b[0m\u001b[1;33m.\u001b[0m\u001b[0msqrt\u001b[0m\u001b[1;33m(\u001b[0m\u001b[0mmetrics\u001b[0m\u001b[1;33m.\u001b[0m\u001b[0mmean_squared_error\u001b[0m\u001b[1;33m(\u001b[0m\u001b[0my_train\u001b[0m\u001b[1;33m,\u001b[0m \u001b[0mypred2\u001b[0m\u001b[1;33m)\u001b[0m\u001b[1;33m)\u001b[0m\u001b[1;33m)\u001b[0m\u001b[1;33m\u001b[0m\u001b[1;33m\u001b[0m\u001b[0m\n\u001b[0m",
      "\u001b[1;31mNameError\u001b[0m: name 'ypred2' is not defined"
     ]
    }
   ],
   "source": [
    "print('RMSE:', np.sqrt(metrics.mean_squared_error(y_train, ypred2)))"
   ]
  },
  {
   "cell_type": "code",
   "execution_count": null,
   "metadata": {},
   "outputs": [],
   "source": [
    "from sklearn.tree import DecisionTreeRegressor\n",
    "from sklearn.ensemble import RandomForestRegressor"
   ]
  },
  {
   "cell_type": "code",
   "execution_count": null,
   "metadata": {},
   "outputs": [],
   "source": [
    "algos= {\n",
    "        'Decision Tree Regressor' : {'model' : DecisionTreeRegressor(),\n",
    "                                    'para' : {'criterion': ['mse', 'mae', 'friedman_mse'],\n",
    "                                             'splitter': ['best', 'random'],'min_samples_split':[2,5,10,7]}\n",
    "                                    },\n",
    "        'Random Forest Regressor' : {'model' : RandomForestRegressor(),\n",
    "                                     'para' :{'criterion' : ['mse', 'mae'],'max_depth' : [1,2,5,7],\n",
    "                                              'n_estimators':[10,25,50,100,200,250,400,500],\n",
    "                                              'max_features': ['auto', 'sqrt', 'log2']}\n",
    "                                    }\n",
    "        }"
   ]
  },
  {
   "cell_type": "code",
   "execution_count": null,
   "metadata": {},
   "outputs": [],
   "source": [
    "result=[]\n",
    "from sklearn.model_selection import RandomizedSearchCV\n",
    "for algo, param in algos.items():\n",
    "    rs=  RandomizedSearchCV(param['model'], param['para'], n_iter= 5, cv=3, scoring='neg_mean_squared_error')\n",
    "    rs.fit(X_train,y_train)\n",
    "    ypred= rs.predict(X_test)\n",
    "    result.append(pd.Series({'model': algo,\n",
    "                            'score': rs.best_score_, \n",
    "                            'parameter': rs.best_params_}))"
   ]
  },
  {
   "cell_type": "code",
   "execution_count": null,
   "metadata": {},
   "outputs": [],
   "source": [
    "pd.options.display.max_colwidth=100\n",
    "results = pd.concat(result, axis= 1).T.set_index('model')"
   ]
  },
  {
   "cell_type": "code",
   "execution_count": null,
   "metadata": {},
   "outputs": [],
   "source": [
    "results"
   ]
  },
  {
   "cell_type": "code",
   "execution_count": null,
   "metadata": {},
   "outputs": [],
   "source": [
    "rf2= RandomForestRegressor(n_estimators= 75, max_features= 'auto', max_depth= 7, criterion= 'mse')\n",
    "rf2.fit(X_train, y_train)\n",
    "ypred2= rf2.predict(X_test)"
   ]
  },
  {
   "cell_type": "code",
   "execution_count": null,
   "metadata": {},
   "outputs": [],
   "source": [
    "sns.distplot(y_test-ypred2)"
   ]
  },
  {
   "cell_type": "code",
   "execution_count": null,
   "metadata": {},
   "outputs": [],
   "source": [
    "print('MAE:', metrics.mean_absolute_error(y_test, ypred2))\n",
    "print('MSE:', metrics.mean_squared_error(y_test, ypred2))\n",
    "print('RMSE:', np.sqrt(metrics.mean_squared_error(y_test, ypred2)))"
   ]
  },
  {
   "cell_type": "code",
   "execution_count": null,
   "metadata": {},
   "outputs": [],
   "source": [
    "import pickle\n",
    "pickle.dump(prediction_ridge,open('model.pkl','wb'))"
   ]
  }
 ],
 "metadata": {
  "kernelspec": {
   "display_name": "Python 3",
   "language": "python",
   "name": "python3"
  },
  "language_info": {
   "codemirror_mode": {
    "name": "ipython",
    "version": 3
   },
   "file_extension": ".py",
   "mimetype": "text/x-python",
   "name": "python",
   "nbconvert_exporter": "python",
   "pygments_lexer": "ipython3",
   "version": "3.8.5"
  }
 },
 "nbformat": 4,
 "nbformat_minor": 4
}
